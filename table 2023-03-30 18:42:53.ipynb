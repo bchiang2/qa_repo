{
 "cells": [
  {
   "cell_type": "code",
   "execution_count": 0,
   "metadata": {
    "application/vnd.databricks.v1+cell": {
     "cellMetadata": {
      "byteLimit": 2048000,
      "rowLimit": 10000
     },
     "inputWidgets": {},
     "nuid": "508b8188-3e46-472e-964d-241cbb025398",
     "showTitle": false,
     "title": ""
    }
   },
   "outputs": [],
   "source": [
    "# STEP 1: RUN THIS CELL TO INSTALL BAMBOOLIB\n",
    "\n",
    "# You can also install bamboolib on the cluster. Just talk to your cluster admin for that\n",
    "%pip install bamboolib  \n",
    "\n",
    "# Heads up: this will restart your python kernel, so you may need to re-execute some of your other code cells."
   ]
  },
  {
   "cell_type": "code",
   "execution_count": 0,
   "metadata": {
    "application/vnd.databricks.v1+cell": {
     "cellMetadata": {
      "byteLimit": 2048000,
      "rowLimit": 10000
     },
     "inputWidgets": {},
     "nuid": "caadaa8c-1662-4057-89e9-a48fc0a14802",
     "showTitle": false,
     "title": ""
    }
   },
   "outputs": [],
   "source": [
    "import plotly.express as px\n",
    "import pandas as pd; import numpy as np\n",
    "df = pd.read_csv(bam.titanic_csv)\n",
    "\n",
    "fig = px.histogram(df, x='Sex', y=['Survived', 'Pclass'])\n",
    "fig\n",
    "\n",
    "\n",
    "\n",
    "\n",
    "\n",
    "# "
   ]
  },
  {
   "cell_type": "code",
   "execution_count": 0,
   "metadata": {
    "application/vnd.databricks.v1+cell": {
     "cellMetadata": {
      "byteLimit": 2048000,
      "rowLimit": 10000
     },
     "inputWidgets": {},
     "nuid": "64c7d95b-2e42-4711-b2cd-6971e17324e8",
     "showTitle": false,
     "title": ""
    }
   },
   "outputs": [],
   "source": [
    "df\n",
    "#"
   ]
  },
  {
   "cell_type": "code",
   "execution_count": 0,
   "metadata": {
    "application/vnd.databricks.v1+cell": {
     "cellMetadata": {},
     "inputWidgets": {},
     "nuid": "2e385844-282a-4a53-bcec-5fd7e393449d",
     "showTitle": false,
     "title": ""
    }
   },
   "outputs": [],
   "source": []
  }
 ],
 "metadata": {
  "application/vnd.databricks.v1+notebook": {
   "dashboards": [
    {
     "elements": [
      {
       "dashboardResultIndex": 0,
       "elementNUID": "caadaa8c-1662-4057-89e9-a48fc0a14802",
       "elementType": "command",
       "guid": "0f7426c3-cfe7-49e7-91d8-7ce15b52f52b",
       "options": null,
       "position": {
        "height": 6,
        "width": 12,
        "x": 0,
        "y": 0,
        "z": null
       },
       "resultIndex": null
      }
     ],
     "globalVars": {},
     "guid": "c1dbcf91-2bcd-4464-86e9-8955a16a11b2",
     "layoutOption": {
      "grid": true,
      "stack": true
     },
     "nuid": "602d021e-3413-4657-bee3-94b444e1074d",
     "origId": 3371917652796311,
     "title": "test",
     "version": "DashboardViewV1",
     "width": 1024
    },
    {
     "elements": [
      {
       "dashboardResultIndex": 0,
       "elementNUID": "caadaa8c-1662-4057-89e9-a48fc0a14802",
       "elementType": "command",
       "guid": "f20c80df-3fa7-45ae-a2b3-84eaaedc70eb",
       "options": null,
       "position": {
        "height": 6,
        "width": 12,
        "x": 0,
        "y": 0,
        "z": null
       },
       "resultIndex": null
      }
     ],
     "globalVars": {},
     "guid": "3c856fea-db1c-4a5a-89ff-96a73f6dd362",
     "layoutOption": {
      "grid": true,
      "stack": true
     },
     "nuid": "e249473b-f3f7-49aa-805e-16d91e5abc9d",
     "origId": 3371917652796312,
     "title": "test3",
     "version": "DashboardViewV1",
     "width": 1024
    },
    {
     "elements": [
      {
       "dashboardResultIndex": 0,
       "elementNUID": "caadaa8c-1662-4057-89e9-a48fc0a14802",
       "elementType": "command",
       "guid": "f58c6a8f-3a17-40d2-8808-09c45cb81b99",
       "options": null,
       "position": {
        "height": 6,
        "width": 12,
        "x": 0,
        "y": 0,
        "z": null
       },
       "resultIndex": null
      }
     ],
     "globalVars": {},
     "guid": "214c3177-81e6-4293-9e91-0123895ed022",
     "layoutOption": {
      "grid": true,
      "stack": true
     },
     "nuid": "089da3f9-07cb-4a0f-9e6f-709be5f1e817",
     "origId": 3371917652796313,
     "title": "test4",
     "version": "DashboardViewV1",
     "width": 1024
    }
   ],
   "language": "python",
   "notebookMetadata": {
    "pythonIndentUnit": 4
   },
   "notebookName": "table 2023-03-30 18:42:53",
   "notebookOrigID": 3371917652796284,
   "widgets": {}
  }
 },
 "nbformat": 4,
 "nbformat_minor": 0
}
