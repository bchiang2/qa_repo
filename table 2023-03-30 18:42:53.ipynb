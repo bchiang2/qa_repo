{
 "cells": [
  {
   "cell_type": "code",
   "execution_count": 0,
   "metadata": {
    "application/vnd.databricks.v1+cell": {
     "cellMetadata": {
      "byteLimit": 2048000,
      "rowLimit": 10000
     },
     "inputWidgets": {},
     "nuid": "508b8188-3e46-472e-964d-241cbb025398",
     "showTitle": false,
     "title": ""
    }
   },
   "outputs": [],
   "source": [
    "# STEP 1: RUN THIS CELL TO INSTALL BAMBOOLIB\n",
    "\n",
    "# You can also install bamboolib on the cluster. Just talk to your cluster admin for that\n",
    "%pip install bamboolib  \n",
    "\n",
    "# Heads up: this will restart your python kernel, so you may need to re-execute some of your other code cells."
   ]
  },
  {
   "cell_type": "code",
   "execution_count": 0,
   "metadata": {
    "application/vnd.databricks.v1+cell": {
     "cellMetadata": {
      "byteLimit": 2048000,
      "rowLimit": 10000
     },
     "inputWidgets": {},
     "nuid": "caadaa8c-1662-4057-89e9-a48fc0a14802",
     "showTitle": false,
     "title": ""
    }
   },
   "outputs": [],
   "source": [
    "import plotly.express as px\n",
    "import pandas as pd; import numpy as np\n",
    "df = pd.read_csv(bam.titanic_csv)\n",
    "\n",
    "fig = px.histogram(df, x='Sex', y=['Survived', 'Pclass'])\n",
    "fig\n",
    "\n",
    "\n",
    "\n",
    "\n",
    "\n",
    "# "
   ]
  },
  {
   "cell_type": "code",
   "execution_count": 0,
   "metadata": {
    "application/vnd.databricks.v1+cell": {
     "cellMetadata": {
      "byteLimit": 2048000,
      "rowLimit": 10000
     },
     "inputWidgets": {},
     "nuid": "64c7d95b-2e42-4711-b2cd-6971e17324e8",
     "showTitle": false,
     "title": ""
    }
   },
   "outputs": [],
   "source": [
    "df"
   ]
  },
  {
   "cell_type": "code",
   "execution_count": 0,
   "metadata": {
    "application/vnd.databricks.v1+cell": {
     "cellMetadata": {},
     "inputWidgets": {},
     "nuid": "2e385844-282a-4a53-bcec-5fd7e393449d",
     "showTitle": false,
     "title": ""
    }
   },
   "outputs": [],
   "source": []
  }
 ],
 "metadata": {
  "application/vnd.databricks.v1+notebook": {
   "dashboards": [],
   "language": "python",
   "notebookMetadata": {
    "pythonIndentUnit": 4
   },
   "notebookName": "table 2023-03-30 18:42:53",
   "notebookOrigID": 2572899644894918,
   "widgets": {}
  }
 },
 "nbformat": 4,
 "nbformat_minor": 0
}
